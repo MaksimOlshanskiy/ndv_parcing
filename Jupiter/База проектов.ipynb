{
 "cells": [
  {
   "cell_type": "code",
   "execution_count": 1,
   "id": "c63a4761-c153-4392-b0f4-f9bdbf27430e",
   "metadata": {},
   "outputs": [],
   "source": [
    "import pandas as pd\n",
    "import numpy as np"
   ]
  },
  {
   "cell_type": "code",
   "execution_count": 10,
   "id": "a13951f0-7c6f-4f5a-8fff-64b3476d0208",
   "metadata": {},
   "outputs": [],
   "source": [
    "df = pd.read_excel(r\"C:\\Users\\m.olshanskiy\\Desktop\\База проектов.xlsx\")"
   ]
  },
  {
   "cell_type": "code",
   "execution_count": 13,
   "id": "e3f5c4ee-7ac3-471e-baa0-73019ff02cb9",
   "metadata": {},
   "outputs": [
    {
     "name": "stdout",
     "output_type": "stream",
     "text": [
      "<class 'pandas.core.frame.DataFrame'>\n",
      "Index: 630 entries, 0 to 107984\n",
      "Data columns (total 20 columns):\n",
      " #   Column                     Non-Null Count  Dtype \n",
      "---  ------                     --------------  ----- \n",
      " 0   Название проекта           630 non-null    object\n",
      " 1   На англ                    134 non-null    object\n",
      " 2   Промзона                   248 non-null    object\n",
      " 3   Местоположение             628 non-null    object\n",
      " 4   Метро                      457 non-null    object\n",
      " 5   Расстояние до метро, км    456 non-null    object\n",
      " 6   Время до метро, мин        451 non-null    object\n",
      " 7   МЦК/МЦД/БКЛ                450 non-null    object\n",
      " 8   Расстояние до МЦК/МЦД, км  449 non-null    object\n",
      " 9   Время до МЦК/МЦД, мин      443 non-null    object\n",
      " 10  Бкл                        172 non-null    object\n",
      " 11  Расстояние до БКЛ, км      170 non-null    object\n",
      " 12  Время до БКЛ, мин          170 non-null    object\n",
      " 13  Статус                     630 non-null    object\n",
      " 14  Девелопер                  630 non-null    object\n",
      " 15  Округ                      628 non-null    object\n",
      " 16  Район                      628 non-null    object\n",
      " 17  Эскроу                     500 non-null    object\n",
      " 18  Конструктив                567 non-null    object\n",
      " 19  Класс                      628 non-null    object\n",
      "dtypes: object(20)\n",
      "memory usage: 103.4+ KB\n"
     ]
    }
   ],
   "source": [
    "df.info()"
   ]
  },
  {
   "cell_type": "code",
   "execution_count": 12,
   "id": "fc17f42c-4612-4087-925d-2ac1b4bef76f",
   "metadata": {},
   "outputs": [],
   "source": [
    "df = df[['Название проекта',\n",
    " 'На англ',\n",
    " 'Промзона',\n",
    " 'Местоположение',\n",
    " 'Метро',\n",
    " 'Расстояние до метро, км',\n",
    " 'Время до метро, мин',\n",
    " 'МЦК/МЦД/БКЛ',\n",
    " 'Расстояние до МЦК/МЦД, км',\n",
    " 'Время до МЦК/МЦД, мин',\n",
    " 'Бкл',\n",
    " 'Расстояние до БКЛ, км',\n",
    " 'Время до БКЛ, мин',\n",
    " 'Статус',\n",
    " 'Девелопер',\n",
    " 'Округ',\n",
    " 'Район',\n",
    " 'Эскроу',\n",
    " 'Конструктив',\n",
    " 'Класс']].drop_duplicates()"
   ]
  },
  {
   "cell_type": "code",
   "execution_count": 9,
   "id": "6ba7d187-7a60-4699-960d-a37ac0ee868b",
   "metadata": {},
   "outputs": [
    {
     "data": {
      "text/plain": [
       "['Название проекта',\n",
       " 'На англ',\n",
       " 'Промзона',\n",
       " 'Местоположение',\n",
       " 'Метро',\n",
       " 'Расстояние до метро, км',\n",
       " 'Время до метро, мин',\n",
       " 'МЦК/МЦД/БКЛ',\n",
       " 'Расстояние до МЦК/МЦД, км',\n",
       " 'Время до МЦК/МЦД, мин',\n",
       " 'Бкл',\n",
       " 'Расстояние до БКЛ, км',\n",
       " 'Время до БКЛ, мин',\n",
       " 'Статус',\n",
       " 'Девелопер',\n",
       " 'Округ',\n",
       " 'Район',\n",
       " 'Адрес',\n",
       " 'Эскроу',\n",
       " 'Конструктив',\n",
       " 'Класс']"
      ]
     },
     "execution_count": 9,
     "metadata": {},
     "output_type": "execute_result"
    }
   ],
   "source": [
    "list(df.columns)"
   ]
  },
  {
   "cell_type": "code",
   "execution_count": 8,
   "id": "258d9c1a-f3ed-4af2-8675-aaf7a3182e9d",
   "metadata": {},
   "outputs": [
    {
     "data": {
      "text/plain": [
       "627"
      ]
     },
     "execution_count": 8,
     "metadata": {},
     "output_type": "execute_result"
    }
   ],
   "source": [
    "df[\"Название проекта\"].nunique()"
   ]
  },
  {
   "cell_type": "code",
   "execution_count": 14,
   "id": "2b6ba485-3551-4e6e-a1f9-28f67dec8a2d",
   "metadata": {},
   "outputs": [],
   "source": [
    "df.to_excel(r\"C:\\Users\\m.olshanskiy\\Desktop\\База проектов2.xlsx\", index=False)"
   ]
  },
  {
   "cell_type": "code",
   "execution_count": null,
   "id": "7d4a9424-9d31-4c77-92c1-4f1e2e1a4d74",
   "metadata": {},
   "outputs": [],
   "source": [
    "нужно "
   ]
  }
 ],
 "metadata": {
  "kernelspec": {
   "display_name": "Python 3 (ipykernel)",
   "language": "python",
   "name": "python3"
  },
  "language_info": {
   "codemirror_mode": {
    "name": "ipython",
    "version": 3
   },
   "file_extension": ".py",
   "mimetype": "text/x-python",
   "name": "python",
   "nbconvert_exporter": "python",
   "pygments_lexer": "ipython3",
   "version": "3.13.2"
  }
 },
 "nbformat": 4,
 "nbformat_minor": 5
}
