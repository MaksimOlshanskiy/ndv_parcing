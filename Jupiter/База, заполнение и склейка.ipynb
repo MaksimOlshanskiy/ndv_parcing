{
 "cells": [
  {
   "cell_type": "code",
   "execution_count": 3,
   "id": "dd6842ac-d8c6-4ece-9578-77692d2c1067",
   "metadata": {
    "ExecuteTime": {
     "end_time": "2025-08-05T08:24:25.423471Z",
     "start_time": "2025-08-05T08:24:25.194382Z"
    }
   },
   "outputs": [],
   "source": [
    "import pandas as pd\n",
    "import numpy as np"
   ]
  },
  {
   "cell_type": "markdown",
   "id": "ad45abac-3b47-49e7-92c1-d1f1d08dccdc",
   "metadata": {},
   "source": [
    "### Загружаем последний файл с базой"
   ]
  },
  {
   "cell_type": "code",
   "execution_count": 35,
   "id": "14938fee-31c7-4ea5-8c91-29d8707bb949",
   "metadata": {
    "ExecuteTime": {
     "end_time": "2025-08-05T08:24:58.654340Z",
     "start_time": "2025-08-05T08:24:33.443639Z"
    }
   },
   "outputs": [],
   "source": [
    "df = pd.read_excel(r\"C:\\Users\\m.olshanskiy\\Desktop\\Новая папка (2)\\База 07-08_fixed.xlsx\")"
   ]
  },
  {
   "cell_type": "code",
   "execution_count": 33,
   "id": "8d7568749f160ad7",
   "metadata": {
    "ExecuteTime": {
     "end_time": "2025-08-05T08:26:18.469500Z",
     "start_time": "2025-08-05T08:26:18.399706Z"
    }
   },
   "outputs": [
    {
     "name": "stdout",
     "output_type": "stream",
     "text": [
      "<class 'pandas.core.frame.DataFrame'>\n",
      "RangeIndex: 211093 entries, 0 to 211092\n",
      "Data columns (total 43 columns):\n",
      " #   Column                          Non-Null Count   Dtype         \n",
      "---  ------                          --------------   -----         \n",
      " 0   Дата обновления                 211093 non-null  datetime64[ns]\n",
      " 1   Название проекта                211093 non-null  object        \n",
      " 2   На англ                         44219 non-null   object        \n",
      " 3   Промзона                        80028 non-null   object        \n",
      " 4   Местоположение                  210059 non-null  object        \n",
      " 5   Метро                           151859 non-null  object        \n",
      " 6   Расстояние до метро, км         151754 non-null  object        \n",
      " 7   Время до метро, мин             150163 non-null  object        \n",
      " 8   Мцк/мцд/бкл                     183942 non-null  object        \n",
      " 9   Расстояние до мцк/мцд, км       183053 non-null  object        \n",
      " 10  Время до мцк/мцд, мин           178149 non-null  object        \n",
      " 11  Бкл                             75545 non-null   object        \n",
      " 12  Расстояние до бкл, км           75476 non-null   object        \n",
      " 13  Время до бкл, мин               75476 non-null   object        \n",
      " 14  Статус                          210062 non-null  object        \n",
      " 15  Старт                           30218 non-null   object        \n",
      " 16  Комментарий                     29531 non-null   object        \n",
      " 17  Девелопер                       211093 non-null  object        \n",
      " 18  Округ                           210059 non-null  object        \n",
      " 19  Район                           210059 non-null  object        \n",
      " 20  Адрес                           207717 non-null  object        \n",
      " 21  Эскроу                          200644 non-null  object        \n",
      " 22  Корпус                          211093 non-null  object        \n",
      " 23  Конструктив                     209490 non-null  object        \n",
      " 24  Класс                           210059 non-null  object        \n",
      " 25  Срок сдачи                      207553 non-null  object        \n",
      " 26  Старый срок сдачи               25448 non-null   object        \n",
      " 27  Стадия строительной готовности  207553 non-null  object        \n",
      " 28  Договор                         210059 non-null  object        \n",
      " 29  Тип помещения                   211093 non-null  object        \n",
      " 30  Отделка                         210618 non-null  object        \n",
      " 31  Кол-во комнат                   210491 non-null  object        \n",
      " 32  Площадь, кв.м                   210551 non-null  float64       \n",
      " 33  Цена кв.м, руб.                 4210 non-null    object        \n",
      " 34  Цена лота, руб.                 207828 non-null  object        \n",
      " 35  Скидка,%                        29786 non-null   float64       \n",
      " 36  Цена кв.м со ск, руб.           1924 non-null    float64       \n",
      " 37  Цена со скидкой, руб.           166009 non-null  object        \n",
      " 38  МЦК/МЦД/БКЛ                     0 non-null       float64       \n",
      " 39  Расстояние до МЦК/МЦД, км       0 non-null       float64       \n",
      " 40  Время до МЦК/МЦД, мин           0 non-null       float64       \n",
      " 41  Расстояние до БКЛ, км           0 non-null       float64       \n",
      " 42  Время до БКЛ, мин               0 non-null       float64       \n",
      "dtypes: datetime64[ns](1), float64(8), object(34)\n",
      "memory usage: 69.3+ MB\n"
     ]
    }
   ],
   "source": [
    "df.info()"
   ]
  },
  {
   "cell_type": "markdown",
   "id": "086445c4-0b96-4f19-acfc-dd4a59bb918d",
   "metadata": {},
   "source": [
    "### Загружаем предыдущий файл с базой"
   ]
  },
  {
   "cell_type": "code",
   "execution_count": 8,
   "id": "ed1c7d3e-a37c-489e-bea3-d4432aaa6f4c",
   "metadata": {},
   "outputs": [],
   "source": [
    "df2 = pd.read_excel(r\"C:\\Users\\m.olshanskiy\\Desktop\\Новая папка (2)\\07.2025_рынок.xlsx\", sheet_name = 'массив')"
   ]
  },
  {
   "cell_type": "markdown",
   "id": "6e5b2720-8e96-4b97-86ec-130cb0a84748",
   "metadata": {},
   "source": [
    "### В последней базе оставляем только последний месяц, если есть лишние"
   ]
  },
  {
   "cell_type": "code",
   "execution_count": 10,
   "id": "3745182e-1a54-4e91-b7e3-4ea9241161ac",
   "metadata": {},
   "outputs": [],
   "source": [
    "df['Дата обновления'] = pd.to_datetime(df['Дата обновления'], errors='coerce')"
   ]
  },
  {
   "cell_type": "code",
   "execution_count": 11,
   "id": "d33a76b0-f8f7-4697-b8fa-67a86ab7d60d",
   "metadata": {
    "ExecuteTime": {
     "end_time": "2025-08-05T08:26:15.849023Z",
     "start_time": "2025-08-05T08:26:15.827351Z"
    }
   },
   "outputs": [],
   "source": [
    "df = df[df['Дата обновления'].dt.month == 8]"
   ]
  },
  {
   "cell_type": "markdown",
   "id": "aa02e23b-be27-4b0a-a65b-7875b420504c",
   "metadata": {},
   "source": [
    "### Чистим в последней базе сроки сдачи и стадии"
   ]
  },
  {
   "cell_type": "code",
   "execution_count": 12,
   "id": "e7f80fb0-4baf-4895-8999-8369b8461035",
   "metadata": {},
   "outputs": [],
   "source": [
    "df['Срок сдачи'] = np.nan\n",
    "df['Стадия строительной готовности'] = np.nan"
   ]
  },
  {
   "cell_type": "markdown",
   "id": "5a0a5bd5-659a-475a-8f0b-0d576074566f",
   "metadata": {},
   "source": [
    "### В столбце Корпус, если номер корпуса идёт в скобках, то удаляем всё за скобками, оставляем только то, что в скобках. Если в скобках есть слово очередь, то ничего не трогаем"
   ]
  },
  {
   "cell_type": "code",
   "execution_count": 13,
   "id": "8e720a37-7025-48b7-ac1b-478427a89aba",
   "metadata": {},
   "outputs": [],
   "source": [
    "df['Корпус'] = df['Корпус'].astype(str)\n",
    "\n",
    "# Выделим текст в скобках\n",
    "bracket_content = df['Корпус'].str.extract(r'\\((.*?)\\)', expand=False)\n",
    "\n",
    "# Маска: строка содержит скобки\n",
    "has_brackets = df['Корпус'].str.contains(r'\\(.*?\\)', na=False)\n",
    "\n",
    "# Маска: в строке есть слово \"очередь\" где угодно (внутри или снаружи скобок)\n",
    "contains_ochered = df['Корпус'].str.contains(r'очередь', case=False, na=False)\n",
    "\n",
    "# Маска: есть скобки, но НЕТ \"очередь\" вообще\n",
    "mask = has_brackets & ~contains_ochered\n",
    "\n",
    "# Заменяем только те строки, которые соответствуют маске\n",
    "df.loc[mask, 'Корпус'] = bracket_content[mask].str.strip()"
   ]
  },
  {
   "cell_type": "code",
   "execution_count": null,
   "id": "3bb190ee-25ed-4b97-a47f-5c852f38db4d",
   "metadata": {},
   "outputs": [],
   "source": [
    "df2['Корпус'] = df2['Корпус'].astype(str)\n",
    "\n",
    "# Выделим текст в скобках\n",
    "bracket_content = df2['Корпус'].str.extract(r'\\((.*?)\\)', expand=False)\n",
    "\n",
    "# Маска: строка содержит скобки\n",
    "has_brackets = df2['Корпус'].str.contains(r'\\(.*?\\)', na=False)\n",
    "\n",
    "# Маска: в строке есть слово \"очередь\" где угодно (внутри или снаружи скобок)\n",
    "contains_ochered = df2['Корпус'].str.contains(r'очередь', case=False, na=False)\n",
    "\n",
    "# Маска: есть скобки, но НЕТ \"очередь\" вообще\n",
    "mask = has_brackets & ~contains_ochered\n",
    "\n",
    "# Заменяем только те строки, которые соответствуют маске\n",
    "df2.loc[mask, 'Корпус'] = bracket_content[mask].str.strip()"
   ]
  },
  {
   "cell_type": "markdown",
   "id": "d7ff26cb-6c0f-4aa8-9efe-7b62b78750b7",
   "metadata": {},
   "source": [
    "### Ещё раз приводим корпуса к текстовому типу"
   ]
  },
  {
   "cell_type": "code",
   "execution_count": 14,
   "id": "0977ff30-885c-4ce4-aaae-fe1fa3667a82",
   "metadata": {},
   "outputs": [],
   "source": [
    "df['Корпус'] = df['Корпус'].astype(str)\n",
    "df2['Корпус'] = df2['Корпус'].astype(str)"
   ]
  },
  {
   "cell_type": "markdown",
   "id": "8fd0dc46-3f48-4fce-87bb-420bc6b0c7df",
   "metadata": {},
   "source": [
    "### Меняем названия столбцов"
   ]
  },
  {
   "cell_type": "code",
   "execution_count": 15,
   "id": "ed0c3ea2-be6b-420a-880f-6ec70c8c4910",
   "metadata": {},
   "outputs": [],
   "source": [
    "df2.columns = df2.columns.str.capitalize().str.strip()"
   ]
  },
  {
   "cell_type": "markdown",
   "id": "449fd0ec-8254-4617-a4c3-b2db4a0960ff",
   "metadata": {},
   "source": [
    "### Продолжаем чистить Корпуса, меняя все пропуски на '1'"
   ]
  },
  {
   "cell_type": "code",
   "execution_count": 16,
   "id": "8c4d5533-a3c0-42a4-85a7-70c283da47f2",
   "metadata": {},
   "outputs": [],
   "source": [
    "# 1. Удаляем текст 'Жилой дом № ' (всё равно на NaN это не повлияет)\n",
    "df['Корпус'] = df['Корпус'].replace('Жилой дом № ', '', regex=True)\n",
    "\n",
    "# Заменяем строку 'nan' и пустые строки на np.nan\n",
    "df['Корпус'] = df['Корпус'].replace(['nan', r'^\\s*$'], np.nan, regex=True)\n",
    "\n",
    "# 3. Заполняем NaN единицами\n",
    "df['Корпус'] = df['Корпус'].fillna('1')"
   ]
  },
  {
   "cell_type": "code",
   "execution_count": 17,
   "id": "297a155c-51a1-48d7-ba91-b44b25987032",
   "metadata": {},
   "outputs": [],
   "source": [
    "# 1. Удаляем текст 'Жилой дом № ' (всё равно на NaN это не повлияет)\n",
    "df2['Корпус'] = df2['Корпус'].replace('Жилой дом № ', '', regex=True)\n",
    "\n",
    "# Заменяем строку 'nan' и пустые строки на np.nan\n",
    "df2['Корпус'] = df2['Корпус'].replace(['nan', r'^\\s*$'], np.nan, regex=True)\n",
    "\n",
    "# 3. Заполняем NaN единицами\n",
    "df2['Корпус'] = df2['Корпус'].fillna('1')"
   ]
  },
  {
   "cell_type": "markdown",
   "id": "72949b66-9d4c-4f67-8631-545aaa275ca7",
   "metadata": {},
   "source": [
    "### Соединяем текущий и предыдущие месяца в один датафрейм"
   ]
  },
  {
   "cell_type": "code",
   "execution_count": 36,
   "id": "e7bf503c-7713-42a4-a324-76f3bc600fe1",
   "metadata": {},
   "outputs": [],
   "source": [
    "df_new = pd.concat([df2, df], ignore_index=True)"
   ]
  },
  {
   "cell_type": "markdown",
   "id": "d94d07b3-29fc-4302-9220-cb5dd01d0c56",
   "metadata": {},
   "source": [
    "### Заполняем все пропущенные значения нового датафрейма"
   ]
  },
  {
   "cell_type": "code",
   "execution_count": 37,
   "id": "058a753d-8356-455a-8cdf-d2482130500e",
   "metadata": {},
   "outputs": [],
   "source": [
    "# Столбцы, в которых нужно заполнить пропуски\n",
    "columns_to_fill = ['На англ',\n",
    " 'Промзона',\n",
    " 'Местоположение',\n",
    " 'Метро',\n",
    " 'Расстояние до метро, км',\n",
    " 'Время до метро, мин',\n",
    " 'Мцк/мцд/бкл',\n",
    " 'Расстояние до мцк/мцд, км',\n",
    " 'Время до мцк/мцд, мин',\n",
    " 'Бкл',\n",
    " 'Расстояние до бкл, км',\n",
    " 'Время до бкл, мин',\n",
    " 'Статус',\n",
    " 'Старт',\n",
    " 'Комментарий',\n",
    " 'Округ',\n",
    " 'Район',\n",
    " 'Адрес',\n",
    " 'Эскроу',\n",
    " 'Конструктив',\n",
    " 'Класс',\n",
    " 'Договор']\n",
    "\n",
    "columns_to_fill_by_corpus = ['Срок сдачи', 'Стадия строительной готовности', 'Старый срок сдачи']\n",
    "\n",
    "df_new = df_new.sort_values(by=[])\n",
    "df_new = df_new.sort_values(by=['Дата обновления', 'Название проекта', 'Девелопер', 'Корпус'])\n",
    "\n",
    "\n",
    "# Группируем по названию проекта и заполняем только нужные столбцы\n",
    "for col in columns_to_fill:\n",
    "    df_new[col] = df_new.groupby(['Название проекта', 'Девелопер'])[col].ffill()\n",
    "\n",
    "for col in columns_to_fill_by_corpus:\n",
    "    df_new[col] = df_new.groupby(['Название проекта', 'Девелопер', 'Корпус'])[col].ffill()"
   ]
  },
  {
   "cell_type": "markdown",
   "id": "82d23428-1447-4034-8a87-ef0909b6c3da",
   "metadata": {},
   "source": [
    "### Сохраняем в новый файл"
   ]
  },
  {
   "cell_type": "code",
   "execution_count": null,
   "id": "2725d2f8-f211-4f8a-a0dc-ca2df29ddab4",
   "metadata": {},
   "outputs": [],
   "source": [
    "df_new = df_new[df_new['Дата обновления'].dt.month.isin([6, 7])]"
   ]
  },
  {
   "cell_type": "code",
   "execution_count": 38,
   "id": "c6a6d591-494b-4294-a07c-00750c2ff12d",
   "metadata": {},
   "outputs": [],
   "source": [
    "df_new.to_excel(r\"C:\\Users\\m.olshanskiy\\Desktop\\Новая папка (2)\\База 07-08_fixed.xlsx\", index=False)"
   ]
  },
  {
   "cell_type": "code",
   "execution_count": null,
   "id": "a14e15de-303b-4c25-a789-09eb68c4a1e0",
   "metadata": {},
   "outputs": [],
   "source": []
  }
 ],
 "metadata": {
  "kernelspec": {
   "display_name": "Python 3 (ipykernel)",
   "language": "python",
   "name": "python3"
  },
  "language_info": {
   "codemirror_mode": {
    "name": "ipython",
    "version": 3
   },
   "file_extension": ".py",
   "mimetype": "text/x-python",
   "name": "python",
   "nbconvert_exporter": "python",
   "pygments_lexer": "ipython3",
   "version": "3.13.2"
  }
 },
 "nbformat": 4,
 "nbformat_minor": 5
}
