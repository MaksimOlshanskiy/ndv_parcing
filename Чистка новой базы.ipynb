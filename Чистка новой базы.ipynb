{
 "cells": [
  {
   "cell_type": "code",
   "execution_count": 2,
   "id": "f3a6c513-e7eb-442c-ab3e-e97dadb9e864",
   "metadata": {},
   "outputs": [],
   "source": [
    "import pandas as pd\n",
    "import numpy as np"
   ]
  },
  {
   "cell_type": "code",
   "execution_count": 15,
   "id": "00d72326-1bba-4c53-a6fe-6d83f08489d7",
   "metadata": {},
   "outputs": [],
   "source": [
    "df = pd.read_excel(r\"C:\\Users\\m.olshanskiy\\Desktop\\Новая папка (2)\\База август_changed.xlsx\")"
   ]
  },
  {
   "cell_type": "code",
   "execution_count": 16,
   "id": "e3088c22-b922-4339-a12a-9dff2b429eed",
   "metadata": {},
   "outputs": [
    {
     "name": "stdout",
     "output_type": "stream",
     "text": [
      "<class 'pandas.core.frame.DataFrame'>\n",
      "RangeIndex: 102753 entries, 0 to 102752\n",
      "Data columns (total 38 columns):\n",
      " #   Column                          Non-Null Count   Dtype  \n",
      "---  ------                          --------------   -----  \n",
      " 0   Дата обновления                 102753 non-null  object \n",
      " 1   Название проекта                102753 non-null  object \n",
      " 2   На англ                         504 non-null     object \n",
      " 3   Промзона                        0 non-null       float64\n",
      " 4   Местоположение                  0 non-null       float64\n",
      " 5   Метро                           0 non-null       float64\n",
      " 6   Расстояние до метро, км         0 non-null       float64\n",
      " 7   Время до метро, мин             0 non-null       float64\n",
      " 8   МЦК/МЦД/БКЛ                     0 non-null       float64\n",
      " 9   Расстояние до МЦК/МЦД, км       0 non-null       float64\n",
      " 10  Время до МЦК/МЦД, мин           0 non-null       float64\n",
      " 11  Бкл                             0 non-null       float64\n",
      " 12  Расстояние до БКЛ, км           0 non-null       float64\n",
      " 13  Время до БКЛ, мин               0 non-null       float64\n",
      " 14  Статус                          8 non-null       object \n",
      " 15  Старт                           0 non-null       float64\n",
      " 16  Комментарий                     0 non-null       float64\n",
      " 17  Девелопер                       102753 non-null  object \n",
      " 18  Округ                           480 non-null     object \n",
      " 19  Район                           0 non-null       float64\n",
      " 20  Адрес                           9156 non-null    object \n",
      " 21  Эскроу                          0 non-null       float64\n",
      " 22  Корпус                          102751 non-null  object \n",
      " 23  Конструктив                     0 non-null       float64\n",
      " 24  Класс                           0 non-null       float64\n",
      " 25  Срок сдачи                      24575 non-null   object \n",
      " 26  Старый срок сдачи               0 non-null       float64\n",
      " 27  Стадия строительной готовности  0 non-null       float64\n",
      " 28  Договор                         0 non-null       float64\n",
      " 29  Тип помещения                   102753 non-null  object \n",
      " 30  Отделка                         102278 non-null  object \n",
      " 31  Кол-во комнат                   102156 non-null  object \n",
      " 32  Площадь, кв.м                   102216 non-null  float64\n",
      " 33  Цена кв.м, руб.                 666 non-null     float64\n",
      " 34  Цена лота, руб.                 99563 non-null   object \n",
      " 35  Скидка,%                        355 non-null     float64\n",
      " 36  Цена кв.м со ск, руб.           52 non-null      float64\n",
      " 37  Цена со скидкой, руб.           57681 non-null   object \n",
      "dtypes: float64(24), object(14)\n",
      "memory usage: 29.8+ MB\n"
     ]
    }
   ],
   "source": [
    "df.info()"
   ]
  },
  {
   "cell_type": "code",
   "execution_count": 75,
   "id": "fd7ab481-73d7-40d2-9bc6-79612dce02c3",
   "metadata": {},
   "outputs": [
    {
     "name": "stdout",
     "output_type": "stream",
     "text": [
      "<class 'pandas.core.frame.DataFrame'>\n",
      "Index: 105881 entries, 0 to 105885\n",
      "Data columns (total 41 columns):\n",
      " #   Column                          Non-Null Count   Dtype  \n",
      "---  ------                          --------------   -----  \n",
      " 0   Дата обновления                 105881 non-null  object \n",
      " 1   Название проекта                105881 non-null  object \n",
      " 2   На англ                         148 non-null     object \n",
      " 3   Промзона                        0 non-null       float64\n",
      " 4   Местоположение                  0 non-null       float64\n",
      " 5   Метро                           0 non-null       float64\n",
      " 6   Расстояние до метро, км         0 non-null       float64\n",
      " 7   Время до метро, мин             0 non-null       float64\n",
      " 8   Мцк/мцд/бкл                     0 non-null       float64\n",
      " 9   Расстояние до мцк/мцд, км       0 non-null       float64\n",
      " 10  Время до мцк/мцд, мин           0 non-null       float64\n",
      " 11  Бкл                             0 non-null       float64\n",
      " 12  Расстояние до бкл, км           0 non-null       float64\n",
      " 13  Время до бкл, мин               0 non-null       float64\n",
      " 14  Статус                          29 non-null      object \n",
      " 15  Старт                           0 non-null       float64\n",
      " 16  Комментарий                     0 non-null       float64\n",
      " 17  Девелопер                       105881 non-null  object \n",
      " 18  Округ                           453 non-null     object \n",
      " 19  Район                           0 non-null       float64\n",
      " 20  Адрес                           10015 non-null   object \n",
      " 21  Эскроу                          0 non-null       float64\n",
      " 22  Корпус                          104449 non-null  object \n",
      " 23  Конструктив                     0 non-null       float64\n",
      " 24  Класс                           0 non-null       float64\n",
      " 25  Срок сдачи                      0 non-null       float64\n",
      " 26  Старый срок сдачи               0 non-null       float64\n",
      " 27  Стадия строительной готовности  0 non-null       float64\n",
      " 28  Договор                         0 non-null       float64\n",
      " 29  Тип помещения                   105783 non-null  object \n",
      " 30  Отделка                         105353 non-null  object \n",
      " 31  Кол-во комнат                   105271 non-null  object \n",
      " 32  Площадь, кв.м                   105881 non-null  float64\n",
      " 33  Цена кв.м, руб.                 390 non-null     float64\n",
      " 34  Цена лота, руб.                 105880 non-null  float64\n",
      " 35  Скидка,%                        378 non-null     float64\n",
      " 36  Цена кв.м со ск, руб.           60 non-null      float64\n",
      " 37  Цена со скидкой, руб.           35647 non-null   float64\n",
      " 38  Секция                          60679 non-null   object \n",
      " 39  Этаж                            104926 non-null  object \n",
      " 40  Номер                           11387 non-null   object \n",
      "dtypes: float64(27), object(14)\n",
      "memory usage: 33.9+ MB\n"
     ]
    }
   ],
   "source": [
    "df.info()"
   ]
  },
  {
   "cell_type": "code",
   "execution_count": 17,
   "id": "a97cb2c7-a287-49b8-b1f3-662eb23577e4",
   "metadata": {},
   "outputs": [],
   "source": [
    "df.columns = df.columns.str.capitalize().str.strip()"
   ]
  },
  {
   "cell_type": "code",
   "execution_count": 18,
   "id": "35a48d53-f5b9-4b57-8d00-2b225c74e333",
   "metadata": {},
   "outputs": [],
   "source": [
    "df = df.rename(columns={'Цена лота со ск, руб.': 'Цена со скидкой, руб.'})"
   ]
  },
  {
   "cell_type": "code",
   "execution_count": 19,
   "id": "2cb3b660-65a1-4189-aae4-5bcae7d258a2",
   "metadata": {},
   "outputs": [],
   "source": [
    "заменяемые_значения_опции = [\n",
    "    'С отделкой, кухней и мебелью', 'С отделкой и мебелью',\n",
    "    'С отделкой, кухней и техникой', 'С отделкой, мебелью и кухней',\n",
    "    'С отделкой и кухней', 'C отделкой и мебелью',\n",
    "    'С отделкой,мебель и техника', 'С отделкой,кухня,мебель',\n",
    "    'С отделкой и доп.опциями', 'С отделкой, мебелью и техникой', \n",
    "    'С отделкой, кухнеи и мебелью', 'С отделкой и  кухней', \n",
    "    'С отделкой и кухня', 'С отделкой,кухня', 'С отделкой, сантехникой',\n",
    "    'С отделкой с кухней и мебелью в ванной', 'С отделкой и кухней и мебелью в ванной',\n",
    "    'С отделкой и мебелировкой', 'С отделкой,мебель',\n",
    "    'С отделкой и мебель', 'С отделкой,кухня и техника', \n",
    "    'С отделкой, кухней и мбелью', 'С отделкой и кухней,мебель', \n",
    "    'С отделкой,кухня,шкафы', 'С мебелью', 'С мебелью и кухней',\n",
    "    'С отделкой ,мебель', 'С отделкой,кухня и мебель', 'С отделкой мебель',\n",
    "    'С отделкой,кухня,техника', 'С оделкой, кухней и техникой',\n",
    "    'С отделкой и кухней без техники', 'С отделкой,кухней и техникой',\n",
    "    'С отделкой,мебель,техника', 'С отделкой (мебель и техника)', \n",
    "    'С отделкой и сантехникой',\n",
    "]\n",
    "\n",
    "заменяемые_значения_отделка = {'С отделкой,машиноместо' : 'С отделкой',\n",
    "       'Предчистовая,машиноместо' : 'Предчистовая',\n",
    "        'Без отделки,машиноместо' : 'Без отделки',\n",
    "       'Предчистовая и м/м' : 'Предчистовая', \n",
    "        'С отделкой и м/м' : 'С отделкой',\n",
    "        'Чистовая' : 'С отделкой',\n",
    "       'Без отделки, м/м входит' : 'Без отделки',\n",
    "        'без отделки' : 'Без отделки',\n",
    "        'с отделкой' : 'С отделкой',\n",
    "        'Без отделкт' : 'Без отделки',\n",
    "        'Сотделкой' : 'С отделкой'  ,\n",
    "        'Предчистова' : 'Предчистовая',\n",
    "        'Отделка' : 'С отделкой',\n",
    "        'Нет' : 'Без отделки',\n",
    "        'Сотделкой' : 'С отделкой',\n",
    "        'White box' : 'Предчистовая',\n",
    "        'С террасой' : 'Без отделки',\n",
    "        'Предчистовая отделка' : 'Предчистовая',\n",
    "        'Чистовая отделка' : 'С отделкой',\n",
    "        'Черновая' : 'Предчистовая',\n",
    "        'Двухуровневая квартира' : 'Без отделки'\n",
    "                               \n",
    "                               \n",
    "                               \n",
    "    \n",
    "                             }\n",
    "\n",
    "\n",
    "\n",
    "\n",
    "df['Отделка'] = df['Отделка'].str.strip().str.capitalize()\n",
    "df['Отделка'] = df['Отделка'].replace(заменяемые_значения_опции, 'С отделкой и доп. опциями')\n",
    "df[\"Отделка\"] = df[\"Отделка\"].replace(заменяемые_значения_отделка)"
   ]
  },
  {
   "cell_type": "code",
   "execution_count": 20,
   "id": "561318dc-00bf-4cdf-9979-a804d24ef793",
   "metadata": {},
   "outputs": [
    {
     "data": {
      "text/plain": [
       "array(['Без отделки', 'С отделкой', 'Предчистовая',\n",
       "       'С отделкой и доп опциями', nan, 'Не удалось определить',\n",
       "       'Комфорт', 'Uniloft', 'Unibox', 'Unidesign'], dtype=object)"
      ]
     },
     "execution_count": 20,
     "metadata": {},
     "output_type": "execute_result"
    }
   ],
   "source": [
    "df['Отделка'].unique()"
   ]
  },
  {
   "cell_type": "code",
   "execution_count": 21,
   "id": "4d754758-9bdb-4da0-b955-3d2a377d1bfc",
   "metadata": {},
   "outputs": [],
   "source": [
    "df['Тип помещения'] = df['Тип помещения'].str.strip().str.capitalize().replace('Квартира', 'Квартиры')\n",
    "df['Тип помещения'] = df['Тип помещения'].str.strip().str.capitalize().replace('Аппартаменты', 'Апартаменты').replace('Апартамент', 'Апартаменты')\n",
    "\n",
    "\n",
    "\n"
   ]
  },
  {
   "cell_type": "code",
   "execution_count": 23,
   "id": "85d9fb5c-7b86-4258-8e2b-fdd8993bfd5d",
   "metadata": {},
   "outputs": [
    {
     "data": {
      "text/plain": [
       "array(['Квартиры', 'Апартаменты', \"<class 'type'>\", 'Пентхаусы',\n",
       "       'Таунхаусы', 'Резиденция', 'Вилла', 'Ситихаус', 'Сити-хаус',\n",
       "       'Коттеджи'], dtype=object)"
      ]
     },
     "execution_count": 23,
     "metadata": {},
     "output_type": "execute_result"
    }
   ],
   "source": [
    "df['Тип помещения'].unique()"
   ]
  },
  {
   "cell_type": "code",
   "execution_count": 13,
   "id": "e5653ba9-44a2-4526-bbe1-b14728006a96",
   "metadata": {},
   "outputs": [],
   "source": [
    "df = df[df['Цена лота, руб.'] != 0]"
   ]
  },
  {
   "cell_type": "code",
   "execution_count": 66,
   "id": "81a5a768-298d-4d60-ab17-6eac5da55ee8",
   "metadata": {},
   "outputs": [],
   "source": [
    "mask = df['Цена со скидкой, руб.'] == df['Цена лота, руб.']"
   ]
  },
  {
   "cell_type": "code",
   "execution_count": 67,
   "id": "f9feb743-4820-43c7-9743-dd4e8f63a3cd",
   "metadata": {},
   "outputs": [],
   "source": [
    "df.loc[mask, 'Цена со скидкой, руб.'] = np.nan"
   ]
  },
  {
   "cell_type": "code",
   "execution_count": 22,
   "id": "ea3fe129-a5fd-4bfe-9356-38bae9b6213e",
   "metadata": {},
   "outputs": [],
   "source": [
    "заменяемые_значения_тип = {'Penthouse' : 'Пентхаусы',\n",
    "       'Таунхаус' : 'Таунхаусы',\n",
    "        'Аппартаменты' : 'Апартаменты',\n",
    "       'Апартамент' : 'Апартаменты',\n",
    "        'Коттедж' : 'Коттеджи',\n",
    "        'High level' : 'Квартиры'\n",
    "                               \n",
    "                               \n",
    "    \n",
    "                             }\n",
    "\n",
    "df['Тип помещения'] = df['Тип помещения'].replace(заменяемые_значения_тип)"
   ]
  },
  {
   "cell_type": "code",
   "execution_count": 74,
   "id": "59c7b4d7-bd55-4edb-b35f-fd2111348d99",
   "metadata": {},
   "outputs": [],
   "source": [
    "df['Срок сдачи'] = np.nan"
   ]
  },
  {
   "cell_type": "code",
   "execution_count": 76,
   "id": "7ccf1800-ba05-47bd-bc2e-7feb8b2cbbbe",
   "metadata": {},
   "outputs": [],
   "source": [
    "df.to_excel(r\"C:\\Users\\m.olshanskiy\\Desktop\\База Июль\\Июль_fixed.xlsx\", index=False)"
   ]
  },
  {
   "cell_type": "code",
   "execution_count": null,
   "id": "0c3a843a-cbb8-4a70-9264-71cb2a9e9ca0",
   "metadata": {},
   "outputs": [],
   "source": []
  }
 ],
 "metadata": {
  "kernelspec": {
   "display_name": "Python 3 (ipykernel)",
   "language": "python",
   "name": "python3"
  },
  "language_info": {
   "codemirror_mode": {
    "name": "ipython",
    "version": 3
   },
   "file_extension": ".py",
   "mimetype": "text/x-python",
   "name": "python",
   "nbconvert_exporter": "python",
   "pygments_lexer": "ipython3",
   "version": "3.13.2"
  }
 },
 "nbformat": 4,
 "nbformat_minor": 5
}
