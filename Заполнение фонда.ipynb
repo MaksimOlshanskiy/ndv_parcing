{
 "cells": [
  {
   "cell_type": "code",
   "execution_count": 2,
   "id": "5af8ebcd-a23f-4ebd-ba46-dd2d60ddb256",
   "metadata": {},
   "outputs": [],
   "source": [
    "import pandas as pd\n",
    "import numpy as np"
   ]
  },
  {
   "cell_type": "code",
   "execution_count": 7,
   "id": "70ad4a60-7e1e-4325-85d7-17c8654d7009",
   "metadata": {},
   "outputs": [],
   "source": [
    "df = pd.read_excel(r\"C:\\Users\\m.olshanskiy\\Desktop\\База нд\\06-07.2025_рынок_типология.xlsx\")"
   ]
  },
  {
   "cell_type": "code",
   "execution_count": 4,
   "id": "0000fcda-b786-49b7-8da0-0ae384894df4",
   "metadata": {},
   "outputs": [],
   "source": [
    "fond = pd.read_excel(r\"C:\\Users\\m.olshanskiy\\PycharmProjects\\ndv_parsing\\Фонд реновации\\2025-07-28\\Фонд реновации_Люблинская ул., д. 80_2025-07-28.xlsx\")"
   ]
  },
  {
   "cell_type": "code",
   "execution_count": 38,
   "id": "ad5a1e70-8d1e-4590-a7c5-f6be24f4b82a",
   "metadata": {
    "scrolled": true
   },
   "outputs": [
    {
     "data": {
      "text/plain": [
       "33617      2\n",
       "33618      2\n",
       "33619      2\n",
       "33620      2\n",
       "33627      3\n",
       "68851    NaN\n",
       "68852    NaN\n",
       "68853    NaN\n",
       "68854    NaN\n",
       "68855    NaN\n",
       "68856    NaN\n",
       "68857    NaN\n",
       "68858    NaN\n",
       "68859    NaN\n",
       "68860    NaN\n",
       "68861    NaN\n",
       "68862    NaN\n",
       "68863    NaN\n",
       "68864    NaN\n",
       "68865    NaN\n",
       "68866    NaN\n",
       "68867    NaN\n",
       "82576    NaN\n",
       "82577    NaN\n",
       "82578    NaN\n",
       "82579      1\n",
       "82580    NaN\n",
       "82581    NaN\n",
       "82582    NaN\n",
       "82583    NaN\n",
       "82584    NaN\n",
       "82585      2\n",
       "82586      2\n",
       "82587      2\n",
       "82588      1\n",
       "82589      2\n",
       "82590      1\n",
       "82591      1\n",
       "82592      1\n",
       "82593      1\n",
       "82594      1\n",
       "82595      1\n",
       "82596      1\n",
       "82597      1\n",
       "82598      1\n",
       "82599      1\n",
       "82600      1\n",
       "82601      1\n",
       "82602      2\n",
       "82603      2\n",
       "Name: Кол-во комнат, dtype: object"
      ]
     },
     "execution_count": 38,
     "metadata": {},
     "output_type": "execute_result"
    }
   ],
   "source": [
    "df[df['Девелопер'] == 'Фонд реновации']['Кол-во комнат'].head(50)"
   ]
  },
  {
   "cell_type": "code",
   "execution_count": 8,
   "id": "27fab413-376c-4955-a254-244fde2f8a20",
   "metadata": {},
   "outputs": [],
   "source": [
    "# Шаг 2 — очищаем колонку\n",
    "df.loc[df['Девелопер'] == 'Фонд реновации', 'Кол-во комнат'] = None\n",
    "\n",
    "# Шаг 1 — выделим нужные строки и добавим индекс\n",
    "df_fond = df[df['Девелопер'] == 'Фонд реновации'].copy()\n",
    "df_fond['__index'] = df_fond.index  # сохраняем оригинальный индекс\n",
    "\n",
    "\n",
    "\n",
    "# Шаг 3 — merge с fond\n",
    "merged = df_fond.merge(\n",
    "    fond[['Название проекта', 'Девелопер', 'Площадь, кв.м', 'Кол-во комнат']],\n",
    "    on=['Название проекта', 'Девелопер', 'Площадь, кв.м'],\n",
    "    how='left',\n",
    "    suffixes=('', '_filled')\n",
    ")\n",
    "\n",
    "# Шаг 4 — обновляем исходный df по сохранённому индексу\n",
    "df.loc[merged['__index'], 'Кол-во комнат'] = merged['Кол-во комнат_filled'].values\n"
   ]
  },
  {
   "cell_type": "code",
   "execution_count": 9,
   "id": "ed1f4dea-c2ea-4eab-9b2b-68895f8d9a92",
   "metadata": {},
   "outputs": [],
   "source": [
    "df.to_excel(r\"C:\\Users\\m.olshanskiy\\Desktop\\База нд\\06-07.2025_рынок_типология.xlsx\", index=False)"
   ]
  },
  {
   "cell_type": "code",
   "execution_count": 41,
   "id": "696f9b6d-f33f-44fa-816d-64686f20edcc",
   "metadata": {},
   "outputs": [],
   "source": [
    "# Столбцы, в которых нужно заполнить пропуски\n",
    "columns_to_fill = ['На англ',\n",
    " 'Промзона',\n",
    " 'Местоположение',\n",
    " 'Метро',\n",
    " 'Расстояние до метро, км',\n",
    " 'Время до метро, мин',\n",
    " 'Мцк/мцд/бкл',\n",
    " 'Расстояние до мцк/мцд, км',\n",
    " 'Время до мцк/мцд, мин',\n",
    " 'Бкл',\n",
    " 'Расстояние до бкл, км',\n",
    " 'Время до бкл, мин',\n",
    " 'Статус',\n",
    " 'Старт',\n",
    " 'Комментарий',\n",
    " 'Округ',\n",
    " 'Район',\n",
    " 'Адрес',\n",
    " 'Эскроу',\n",
    " 'Конструктив',\n",
    " 'Класс',\n",
    " 'Договор']\n",
    "\n",
    "columns_to_fill_by_corpus = ['Срок сдачи', 'Стадия строительной готовности', 'Старый срок сдачи']\n",
    "\n",
    "df = df.sort_values(by=[])\n",
    "df = df.sort_values(by=['Дата обновления', 'Название проекта', 'Девелопер', 'Корпус'])\n",
    "\n",
    "\n",
    "# Группируем по названию проекта и заполняем только нужные столбцы\n",
    "for col in columns_to_fill:\n",
    "    df[col] = df.groupby(['Название проекта', 'Девелопер'])[col].ffill()\n",
    "\n",
    "for col in columns_to_fill_by_corpus:\n",
    "    df[col] = df.groupby(['Название проекта', 'Девелопер', 'Корпус'])[col].ffill()"
   ]
  },
  {
   "cell_type": "code",
   "execution_count": null,
   "id": "8714d3be-0a5a-483c-8fab-9131c8faecbd",
   "metadata": {},
   "outputs": [],
   "source": []
  }
 ],
 "metadata": {
  "kernelspec": {
   "display_name": "Python 3 (ipykernel)",
   "language": "python",
   "name": "python3"
  },
  "language_info": {
   "codemirror_mode": {
    "name": "ipython",
    "version": 3
   },
   "file_extension": ".py",
   "mimetype": "text/x-python",
   "name": "python",
   "nbconvert_exporter": "python",
   "pygments_lexer": "ipython3",
   "version": "3.13.2"
  }
 },
 "nbformat": 4,
 "nbformat_minor": 5
}
