{
 "cells": [
  {
   "cell_type": "code",
   "execution_count": 1,
   "id": "fc816bcc-dd9b-484c-9546-2ef28ce2215b",
   "metadata": {},
   "outputs": [],
   "source": [
    "import pandas as pd\n",
    "import numpy as np"
   ]
  },
  {
   "cell_type": "code",
   "execution_count": 2,
   "id": "f5ad21be-197d-48c2-b9dc-cd7225b40d28",
   "metadata": {},
   "outputs": [],
   "source": [
    "df = pd.read_excel(r\"C:\\Users\\m.olshanskiy\\Desktop\\Новая папка (2)\\База 07-08_fixed.xlsx\")"
   ]
  },
  {
   "cell_type": "code",
   "execution_count": 30,
   "id": "c0f33000-2882-4dad-9ba3-cdb15b236a50",
   "metadata": {},
   "outputs": [],
   "source": [
    "df['Дата обновления'] = pd.to_datetime(df['Дата обновления'], errors='coerce')"
   ]
  },
  {
   "cell_type": "code",
   "execution_count": 3,
   "id": "bb46d9aa-cda6-4861-a73b-43831b74a35b",
   "metadata": {},
   "outputs": [],
   "source": [
    "# Исключаем квартиры от Фонда Реновации\n",
    "df_filtered = df[df['Девелопер'] != 'Фонд реновации'].copy()\n",
    "\n",
    "# Добавляем колонку с месяцем (числовой формат — June = 6, July = 7)\n",
    "df_filtered['месяц'] = df_filtered['Дата обновления'].dt.month\n",
    "\n",
    "# Считаем количество квартир по проекту и месяцу\n",
    "project_month_counts = df_filtered.groupby(['Название проекта', 'месяц']).size().unstack(fill_value=0)\n",
    "\n",
    "# Фильтруем: < 10 квартир в июне и 0 квартир в июле\n",
    "filtered_projects = project_month_counts[\n",
    "    (project_month_counts.get(7, 0) < 100000) &  # Июнь\n",
    "    (project_month_counts.get(8, 0) == 0)    # Июль\n",
    "]\n",
    "\n",
    "# Получаем список названий проектов\n",
    "result = filtered_projects.index.tolist()"
   ]
  },
  {
   "cell_type": "code",
   "execution_count": 4,
   "id": "cb206b0f-1d50-43e9-9eae-73e244c16c61",
   "metadata": {},
   "outputs": [
    {
     "data": {
      "text/plain": [
       "['Armani/Casa Moscow Residences',\n",
       " 'Level Нагатинская',\n",
       " 'Nagatino i-Land',\n",
       " 'The Patricks',\n",
       " 'Берег',\n",
       " 'Высокие Жаворонки',\n",
       " 'Гармония парк',\n",
       " 'Донской (Коломна)',\n",
       " 'Космос',\n",
       " 'Либерти',\n",
       " 'Мишино-2',\n",
       " 'Мой город',\n",
       " 'Онегин',\n",
       " 'Первый Нагатинский',\n",
       " 'Планерный квартал',\n",
       " 'Подлипки-Город',\n",
       " 'Пречистенка 8',\n",
       " 'Ривер хаус',\n",
       " 'Сабурово Клаб',\n",
       " 'Серебро']"
      ]
     },
     "execution_count": 4,
     "metadata": {},
     "output_type": "execute_result"
    }
   ],
   "source": [
    "result"
   ]
  },
  {
   "cell_type": "code",
   "execution_count": 7,
   "id": "fc2e0d07-b168-456a-a77b-31ebe5d2b1b5",
   "metadata": {},
   "outputs": [
    {
     "name": "stdout",
     "output_type": "stream",
     "text": [
      "Armani/Casa Moscow Residences — 6 квартир в Июле\n",
      "Level Нагатинская — 1 квартир в Июле\n",
      "Nagatino i-Land — 80 квартир в Июле\n",
      "The Patricks — 1 квартир в Июле\n",
      "Берег — 189 квартир в Июле\n",
      "Высокие Жаворонки — 4 квартир в Июле\n",
      "Гармония парк — 262 квартир в Июле\n",
      "Донской (Коломна) — 44 квартир в Июле\n",
      "Космос — 906 квартир в Июле\n",
      "Либерти — 1 квартир в Июле\n",
      "Мишино-2 — 56 квартир в Июле\n",
      "Мой город — 5 квартир в Июле\n",
      "Онегин — 200 квартир в Июле\n",
      "Первый Нагатинский — 88 квартир в Июле\n",
      "Планерный квартал — 270 квартир в Июле\n",
      "Подлипки-Город — 16 квартир в Июле\n",
      "Пречистенка 8 — 4 квартир в Июле\n",
      "Ривер хаус — 124 квартир в Июле\n",
      "Сабурово Клаб — 24 квартир в Июле\n",
      "Серебро — 809 квартир в Июле\n"
     ]
    }
   ],
   "source": [
    "# Шаг 1 — исключаем квартиры от Фонда Реновации\n",
    "df_filtered = df[df['Девелопер'] != 'Фонд реновации'].copy()\n",
    "\n",
    "# Шаг 2 — добавляем колонку с числовым месяцем\n",
    "df_filtered['месяц'] = df_filtered['Дата обновления'].dt.month\n",
    "\n",
    "# Шаг 3 — группируем по проекту и месяцу\n",
    "project_month_counts = df_filtered.groupby(['Название проекта', 'месяц']).size().unstack(fill_value=0)\n",
    "\n",
    "# Шаг 4 — отбираем проекты: <10 квартир в июне и 0 в июле\n",
    "filtered_projects = project_month_counts[\n",
    "    (project_month_counts.get(7, 0) < 100000) & \n",
    "    (project_month_counts.get(8, 0) == 0)\n",
    "]\n",
    "\n",
    "# Шаг 5 — формируем список строк в нужном формате\n",
    "result = [\n",
    "    f\"{project} — {count} квартир в Июле\"\n",
    "    for project, count in filtered_projects[7].items()\n",
    "]\n",
    "\n",
    "# Вывод\n",
    "for line in result:\n",
    "    print(line)"
   ]
  },
  {
   "cell_type": "code",
   "execution_count": 11,
   "id": "19ad97be-a443-422e-afc4-998b15407e74",
   "metadata": {},
   "outputs": [
    {
     "name": "stdout",
     "output_type": "stream",
     "text": [
      "('Armani/Casa Moscow Residences', 'VOS’HOD') — Июль: 6, Август: 0\n",
      "('Level Нагатинская', 'Level') — Июль: 1, Август: 0\n",
      "('Nagatino i-Land', 'Эталон') — Июль: 80, Август: 0\n",
      "('Riverpark', 'Аеон') — Июль: 386, Август: 0\n",
      "('The Patricks', 'Третий Рим') — Июль: 1, Август: 0\n",
      "('Берег', 'СЭСМА') — Июль: 189, Август: 0\n",
      "('Высокие Жаворонки', 'Гранель') — Июль: 4, Август: 0\n",
      "('Гармония парк', 'ТКС РИЭЛТИ') — Июль: 262, Август: 0\n",
      "('Донской (Коломна)', 'РК-Газсетьсервис') — Июль: 44, Август: 0\n",
      "('Истомкино Парк', 'Тройка плюс') — Июль: 26, Август: 70\n",
      "('Квартал Ивакино', 'Самолет') — Июль: 37, Август: 7\n",
      "('Космос', 'СЗ Скала') — Июль: 906, Август: 0\n",
      "('Либерти', 'Магнум') — Июль: 1, Август: 0\n",
      "('Михайловский парк', 'ПИК') — Июль: 5, Август: 1\n",
      "('Мишино-2', 'СЗ Ю-ИНВЕСТ') — Июль: 56, Август: 0\n",
      "('Мой город', 'Стройспецмонтаж') — Июль: 5, Август: 0\n",
      "('Ново-Никольское', 'Агрострой') — Июль: 52, Август: 9\n",
      "('Одинцовские кварталы', 'Стройтек') — Июль: 13, Август: 0\n",
      "('Онегин', 'ГК Развитие') — Июль: 200, Август: 0\n",
      "('Павлово-3', 'СЗ ПАВЛОВО ПАРК') — Июль: 69, Август: 11\n",
      "('Первый Нагатинский', 'Прайм Лайф') — Июль: 88, Август: 0\n",
      "('Первый Рязанский', 'СИСдевелопмент') — Июль: 1, Август: 8\n",
      "('Планерный квартал', 'Жилстрой') — Июль: 270, Август: 0\n",
      "('Подлипки-Город', 'РК-Газсетьсервис') — Июль: 16, Август: 0\n",
      "('Пречистенка 8', 'ЦентрЖилСервис-2012') — Июль: 4, Август: 0\n",
      "('Ривер хаус', 'СЗ Риверхаус') — Июль: 124, Август: 0\n",
      "('Сабурово Клаб', 'ФСК') — Июль: 24, Август: 0\n",
      "('Серебро', 'Виктория-Девелопмент') — Июль: 809, Август: 0\n",
      "('Союзный', 'Стройтек') — Июль: 38, Август: 0\n",
      "('Талисман на Рокоссовского', '3S Group') — Июль: 2, Август: 5\n",
      "('Юнино', 'ПИК') — Июль: 8, Август: 23\n"
     ]
    }
   ],
   "source": [
    "# Шаг 1 — исключаем квартиры от Фонда Реновации\n",
    "df_filtered = df[df['Девелопер'] != 'Фонд реновации'].copy()\n",
    "\n",
    "# Шаг 2 — добавляем числовой месяц\n",
    "df_filtered['месяц'] = df_filtered['Дата обновления'].dt.month\n",
    "\n",
    "# Шаг 3 — группировка по проекту и девелоперу + подсчёт квартир по месяцам\n",
    "project_month_counts = (\n",
    "    df_filtered\n",
    "    .groupby(['Название проекта', 'Девелопер', 'месяц'])\n",
    "    .size()\n",
    "    .unstack(fill_value=0)\n",
    "    .rename(columns={7: 'июль', 8: 'август'})\n",
    ")\n",
    "project_month_counts = project_month_counts.rename(columns={7: 'июль', 8: 'август'})\n",
    "\n",
    "# Шаг 4 — фильтрация:\n",
    "# - минимум 5 квартир в июне\n",
    "# - июль не ноль\n",
    "# - изменение >= 80% в любую сторону\n",
    "filtered = project_month_counts[\n",
    "    (project_month_counts['июль'] >= 1) &\n",
    "    (project_month_counts['август'] >= 0) &\n",
    "    (\n",
    "        (project_month_counts['август'] >= project_month_counts['июль'] * 2) |\n",
    "        (project_month_counts['август'] <= project_month_counts['июль'] * 0.2)\n",
    "    )\n",
    "]\n",
    "\n",
    "# Шаг 5 — читаемый вывод\n",
    "result = [\n",
    "    f\"{project} — Июль: {row['июль']}, Август: {row['август']}\"\n",
    "    for project, row in filtered.iterrows()\n",
    "]\n",
    "\n",
    "# Вывод\n",
    "for line in result:\n",
    "    print(line)"
   ]
  },
  {
   "cell_type": "code",
   "execution_count": null,
   "id": "3fc39556-6cea-42d2-b7bc-da11b702fd9e",
   "metadata": {},
   "outputs": [],
   "source": []
  }
 ],
 "metadata": {
  "kernelspec": {
   "display_name": "Python 3 (ipykernel)",
   "language": "python",
   "name": "python3"
  },
  "language_info": {
   "codemirror_mode": {
    "name": "ipython",
    "version": 3
   },
   "file_extension": ".py",
   "mimetype": "text/x-python",
   "name": "python",
   "nbconvert_exporter": "python",
   "pygments_lexer": "ipython3",
   "version": "3.13.2"
  }
 },
 "nbformat": 4,
 "nbformat_minor": 5
}
