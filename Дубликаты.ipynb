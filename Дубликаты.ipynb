{
 "cells": [
  {
   "cell_type": "code",
   "id": "initial_id",
   "metadata": {
    "collapsed": true,
    "ExecuteTime": {
     "end_time": "2025-08-28T15:16:20.207619Z",
     "start_time": "2025-08-28T15:16:19.976639Z"
    }
   },
   "source": "import pandas as pd",
   "outputs": [],
   "execution_count": 2
  },
  {
   "metadata": {
    "ExecuteTime": {
     "end_time": "2025-08-28T15:16:44.148713Z",
     "start_time": "2025-08-28T15:16:43.579284Z"
    }
   },
   "cell_type": "code",
   "source": "df = pd.read_excel(r\"C:\\Users\\m.olshanskiy\\PycharmProjects\\ndv_parsing\\Cian\\2025-08-28\\Первичка_Недвижимость в Челябинске_2025-08-28.xlsx\")",
   "id": "38032c0c724fc0c9",
   "outputs": [],
   "execution_count": 3
  },
  {
   "metadata": {
    "ExecuteTime": {
     "end_time": "2025-08-28T15:17:21.736190Z",
     "start_time": "2025-08-28T15:17:21.720212Z"
    }
   },
   "cell_type": "code",
   "source": "df_unique = df.drop_duplicates()",
   "id": "ffc6b583f34b6724",
   "outputs": [],
   "execution_count": 4
  },
  {
   "metadata": {
    "ExecuteTime": {
     "end_time": "2025-08-28T15:17:47.309310Z",
     "start_time": "2025-08-28T15:17:47.295822Z"
    }
   },
   "cell_type": "code",
   "source": "df_unique.info()",
   "id": "9f0d171f9271626c",
   "outputs": [
    {
     "name": "stdout",
     "output_type": "stream",
     "text": [
      "<class 'pandas.core.frame.DataFrame'>\n",
      "Index: 4146 entries, 0 to 4242\n",
      "Data columns (total 20 columns):\n",
      " #   Column                    Non-Null Count  Dtype  \n",
      "---  ------                    --------------  -----  \n",
      " 0   Название проекта          4146 non-null   object \n",
      " 1   Девелопер                 4146 non-null   object \n",
      " 2   Гео1                      4146 non-null   object \n",
      " 3   Гео2                      4146 non-null   object \n",
      " 4   Гео3                      4146 non-null   object \n",
      " 5   Гео4                      4142 non-null   object \n",
      " 6   Корпус                    4146 non-null   object \n",
      " 7   Расстояние до центра, км  4146 non-null   float64\n",
      " 8   Срок сдачи                4146 non-null   object \n",
      " 9   Тип помещения             4146 non-null   object \n",
      " 10  Отделка                   4146 non-null   object \n",
      " 11  Кол-во комнат             4146 non-null   int64  \n",
      " 12  Площадь, кв.м             4146 non-null   float64\n",
      " 13  Площадь кухни, кв.м       4146 non-null   float64\n",
      " 14  Жилая площадь, кв.м       4146 non-null   float64\n",
      " 15  Цена лота, руб.           4146 non-null   int64  \n",
      " 16  Этаж                      4146 non-null   int64  \n",
      " 17  Балконы/лоджии            4146 non-null   int64  \n",
      " 18  Паркинг                   22 non-null     object \n",
      " 19  Ссылка                    4146 non-null   object \n",
      "dtypes: float64(4), int64(4), object(12)\n",
      "memory usage: 680.2+ KB\n"
     ]
    }
   ],
   "execution_count": 6
  },
  {
   "metadata": {
    "ExecuteTime": {
     "end_time": "2025-08-28T15:22:02.558942Z",
     "start_time": "2025-08-28T15:22:01.989961Z"
    }
   },
   "cell_type": "code",
   "source": "df_unique.to_excel(r\"C:\\Users\\m.olshanskiy\\PycharmProjects\\ndv_parsing\\Cian\\2025-08-28\\Первичка_Недвижимость в Челябинске_2025-08-28.xlsx\", index=False)",
   "id": "125755240590990",
   "outputs": [],
   "execution_count": 8
  }
 ],
 "metadata": {
  "kernelspec": {
   "display_name": "Python 3",
   "language": "python",
   "name": "python3"
  },
  "language_info": {
   "codemirror_mode": {
    "name": "ipython",
    "version": 2
   },
   "file_extension": ".py",
   "mimetype": "text/x-python",
   "name": "python",
   "nbconvert_exporter": "python",
   "pygments_lexer": "ipython2",
   "version": "2.7.6"
  }
 },
 "nbformat": 4,
 "nbformat_minor": 5
}
